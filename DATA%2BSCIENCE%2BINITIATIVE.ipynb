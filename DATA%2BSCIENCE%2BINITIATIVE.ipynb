{
 "cells": [
  {
   "cell_type": "code",
   "execution_count": 1,
   "metadata": {},
   "outputs": [],
   "source": [
    "from datascience import *\n",
    "import numpy as np\n",
    "# These lines set up graphing capabilities.\n",
    "import matplotlib\n",
    "%matplotlib inline\n",
    "import matplotlib.pyplot as plt\n",
    "plt.style.use('fivethirtyeight')\n",
    "import warnings\n",
    "warnings.simplefilter('ignore', FutureWarning)"
   ]
  },
  {
   "cell_type": "code",
   "execution_count": 2,
   "metadata": {},
   "outputs": [],
   "source": [
    "# HIDDEN\n",
    "from datascience import *\n",
    "%matplotlib inline\n",
    "import matplotlib.pyplot as plt\n",
    "plt.style.use('fivethirtyeight')\n",
    "import math\n",
    "from scipy import stats\n",
    "import numpy as np"
   ]
  },
  {
   "cell_type": "code",
   "execution_count": 3,
   "metadata": {},
   "outputs": [
    {
     "data": {
      "text/html": [
       "<img src=\"https://cdn.businessformtemplate.com/samples/Eviction_Notice.png\"/>"
      ],
      "text/plain": [
       "<IPython.core.display.Image object>"
      ]
     },
     "execution_count": 3,
     "metadata": {},
     "output_type": "execute_result"
    }
   ],
   "source": [
    "from IPython.display import Image\n",
    "from IPython.core.display import HTML \n",
    "Image(url= \"https://cdn.businessformtemplate.com/samples/Eviction_Notice.png\")\n"
   ]
  },
  {
   "cell_type": "markdown",
   "metadata": {},
   "source": [
    "# PLAN FOR DATA JUSTICE IN EVICTION\n",
    "\n",
    "\n",
    "Data provided by \n",
    "\n",
    "http://www.antievictionmappingproject.net\n",
    "\n",
    "https://www.immigrationadvocates.org/nonprofit/legaldirectory/search?&state=CA&national=0&county=&legalArea=&legalService=&nonLegalService=&interestArea=&population=&legalNetwork=&language=&detentionFacility=&text=&zip=&interpreting=0&map=1 \n",
    "\n",
    "\n",
    "## EVICTION\n",
    "\n",
    "- Eviction is a very serious issue in today's society. People are getting evicted from their homes and houses at an alarming rate and there is very little data about what happens after they become evicted or what options they had financially. We're going to examine the eviction data with other places in the United States and compare the two. But before that, we need an accurate picture and an intuitive understanding of just how bad eviction has become.\n",
    "\n",
    "- The Eviction data I worked with is from a website called AntiEvictionMappingProject. The Oakland Map specifically is what we're going to be examining. There is ample eviction data all across the Bay Area, but we're only taking a look at a tiny part of it to understand the bigger picture. To minimize the deviation from the complete data set, we're going to look at 3 different sample sizes; \n",
    "\n",
    "- First, we're going to look at a tiny street corner with less than 5 evictions, Second, we're going to examine a moderate size street called Alcatraz Avenue which has about 10 evictions.\n",
    "## RESOURCES\n",
    "- Once we get a good understanding of the eviction situation in Oakland, we're going to take a look at some of the resources available to immigrants and people that have been evicted from their homes in the East Bay and compare it to other areas, such as San Francisco, Los Angeles, and various areas in between. "
   ]
  },
  {
   "cell_type": "code",
   "execution_count": 4,
   "metadata": {},
   "outputs": [],
   "source": [
    "import datetime\n",
    "#Relative day between the constraints of the graph\n",
    "def yearconversion(year,month,day):\n",
    "    begin = datetime.date(2015, 11, 30);\n",
    "    end = datetime.date(2005, 1, 1);\n",
    "    deltad = (begin - end);\n",
    "    current = datetime.date(year,month,day) - end;\n",
    "    proportionoftime = current/deltad\n",
    "    return proportionoftime"
   ]
  },
  {
   "cell_type": "code",
   "execution_count": 5,
   "metadata": {},
   "outputs": [],
   "source": [
    "#Returns an array of the year converted proportions to be applied to a table\n",
    "def proportioncollector(table):\n",
    "    emp = make_array()\n",
    "    for i in np.arange(len(table.column(0))):\n",
    "        singlerow = table.row(i)\n",
    "        emp = np.append(emp, yearconversion(singlerow.item(2),singlerow.item(3),singlerow.item(4)))\n",
    "    return emp\n"
   ]
  },
  {
   "cell_type": "code",
   "execution_count": 6,
   "metadata": {},
   "outputs": [],
   "source": [
    "smallstreet = Table.read_table('62ndStreet.csv')"
   ]
  },
  {
   "cell_type": "code",
   "execution_count": 7,
   "metadata": {},
   "outputs": [
    {
     "data": {
      "text/html": [
       "<table border=\"1\" class=\"dataframe\">\n",
       "    <thead>\n",
       "        <tr>\n",
       "            <th>ADDRESS</th> <th>Number of Evictions</th> <th>Eviction Year</th> <th>Eviction Month</th> <th>Eviction Day</th>\n",
       "        </tr>\n",
       "    </thead>\n",
       "    <tbody>\n",
       "        <tr>\n",
       "            <td>579 62nd St</td> <td>1                  </td> <td>2006         </td> <td>10            </td> <td>13          </td>\n",
       "        </tr>\n",
       "    </tbody>\n",
       "        <tr>\n",
       "            <td>552 62nd St</td> <td>1                  </td> <td>2006         </td> <td>12            </td> <td>31          </td>\n",
       "        </tr>\n",
       "    </tbody>\n",
       "        <tr>\n",
       "            <td>571 62nd St</td> <td>1                  </td> <td>2005         </td> <td>2             </td> <td>28          </td>\n",
       "        </tr>\n",
       "    </tbody>\n",
       "</table>"
      ],
      "text/plain": [
       "ADDRESS     | Number of Evictions | Eviction Year | Eviction Month | Eviction Day\n",
       "579 62nd St | 1                   | 2006          | 10             | 13\n",
       "552 62nd St | 1                   | 2006          | 12             | 31\n",
       "571 62nd St | 1                   | 2005          | 2              | 28"
      ]
     },
     "execution_count": 7,
     "metadata": {},
     "output_type": "execute_result"
    }
   ],
   "source": [
    "((smallstreet.sort('Eviction Day',descending = True)).sort('Eviction Month', descending = True)).sort('Eviction Year', descending = True)"
   ]
  },
  {
   "cell_type": "code",
   "execution_count": 8,
   "metadata": {},
   "outputs": [
    {
     "data": {
      "text/html": [
       "<table border=\"1\" class=\"dataframe\">\n",
       "    <thead>\n",
       "        <tr>\n",
       "            <th>Name</th> <th> Area</th> <th> Type of Support</th>\n",
       "        </tr>\n",
       "    </thead>\n",
       "    <tbody>\n",
       "        <tr>\n",
       "            <td>Bay Area Legal Aid                       </td> <td> East Bay   </td> <td> Legal Aid Office            </td>\n",
       "        </tr>\n",
       "    </tbody>\n",
       "        <tr>\n",
       "            <td>International Institute-Legal            </td> <td> East Bay   </td> <td> Family Law Attorney         </td>\n",
       "        </tr>\n",
       "    </tbody>\n",
       "        <tr>\n",
       "            <td>Refugee Transitions                      </td> <td> East Bay   </td> <td> Tutoring Service            </td>\n",
       "        </tr>\n",
       "    </tbody>\n",
       "        <tr>\n",
       "            <td>National Network For Immigrant           </td> <td> East Bay   </td> <td> Non Profit Organization     </td>\n",
       "        </tr>\n",
       "    </tbody>\n",
       "        <tr>\n",
       "            <td>Social Justice Collaborative             </td> <td> East Bay   </td> <td> Non Profit Organization     </td>\n",
       "        </tr>\n",
       "    </tbody>\n",
       "        <tr>\n",
       "            <td>Catholic Charities of the East Bay       </td> <td> East Bay   </td> <td> Social Services Organization</td>\n",
       "        </tr>\n",
       "    </tbody>\n",
       "        <tr>\n",
       "            <td>Immigration Center for Women and Children</td> <td> East Bay   </td> <td> Corporate Office            </td>\n",
       "        </tr>\n",
       "    </tbody>\n",
       "        <tr>\n",
       "            <td>International Rescue Committee           </td> <td> East Bay   </td> <td> Social Services Organization</td>\n",
       "        </tr>\n",
       "    </tbody>\n",
       "        <tr>\n",
       "            <td>East Bay Sanctuary Covenant              </td> <td> East Bay   </td> <td> Non Profit Organization     </td>\n",
       "        </tr>\n",
       "    </tbody>\n",
       "        <tr>\n",
       "            <td>CARECEN                                  </td> <td> Los Angeles</td> <td> Non Profit Organization     </td>\n",
       "        </tr>\n",
       "    </tbody>\n",
       "</table>\n",
       "<p>... (27 rows omitted)</p"
      ],
      "text/plain": [
       "Name                                      |  Area        |  Type of Support\n",
       "Bay Area Legal Aid                        |  East Bay    |  Legal Aid Office\n",
       "International Institute-Legal             |  East Bay    |  Family Law Attorney\n",
       "Refugee Transitions                       |  East Bay    |  Tutoring Service\n",
       "National Network For Immigrant            |  East Bay    |  Non Profit Organization\n",
       "Social Justice Collaborative              |  East Bay    |  Non Profit Organization\n",
       "Catholic Charities of the East Bay        |  East Bay    |  Social Services Organization\n",
       "Immigration Center for Women and Children |  East Bay    |  Corporate Office\n",
       "International Rescue Committee            |  East Bay    |  Social Services Organization\n",
       "East Bay Sanctuary Covenant               |  East Bay    |  Non Profit Organization\n",
       "CARECEN                                   |  Los Angeles |  Non Profit Organization\n",
       "... (27 rows omitted)"
      ]
     },
     "execution_count": 8,
     "metadata": {},
     "output_type": "execute_result"
    }
   ],
   "source": [
    "resources = Table.read_table('resources.csv')\n",
    "resources"
   ]
  },
  {
   "cell_type": "code",
   "execution_count": 9,
   "metadata": {},
   "outputs": [
    {
     "data": {
      "text/html": [
       "<table border=\"1\" class=\"dataframe\">\n",
       "    <thead>\n",
       "        <tr>\n",
       "            <th>Name</th> <th> Area</th> <th> Type of Support</th>\n",
       "        </tr>\n",
       "    </thead>\n",
       "    <tbody>\n",
       "        <tr>\n",
       "            <td>Bay Area Legal Aid                       </td> <td> East Bay</td> <td> Legal Aid Office            </td>\n",
       "        </tr>\n",
       "    </tbody>\n",
       "        <tr>\n",
       "            <td>International Institute-Legal            </td> <td> East Bay</td> <td> Family Law Attorney         </td>\n",
       "        </tr>\n",
       "    </tbody>\n",
       "        <tr>\n",
       "            <td>Refugee Transitions                      </td> <td> East Bay</td> <td> Tutoring Service            </td>\n",
       "        </tr>\n",
       "    </tbody>\n",
       "        <tr>\n",
       "            <td>National Network For Immigrant           </td> <td> East Bay</td> <td> Non Profit Organization     </td>\n",
       "        </tr>\n",
       "    </tbody>\n",
       "        <tr>\n",
       "            <td>Social Justice Collaborative             </td> <td> East Bay</td> <td> Non Profit Organization     </td>\n",
       "        </tr>\n",
       "    </tbody>\n",
       "        <tr>\n",
       "            <td>Catholic Charities of the East Bay       </td> <td> East Bay</td> <td> Social Services Organization</td>\n",
       "        </tr>\n",
       "    </tbody>\n",
       "        <tr>\n",
       "            <td>Immigration Center for Women and Children</td> <td> East Bay</td> <td> Corporate Office            </td>\n",
       "        </tr>\n",
       "    </tbody>\n",
       "        <tr>\n",
       "            <td>International Rescue Committee           </td> <td> East Bay</td> <td> Social Services Organization</td>\n",
       "        </tr>\n",
       "    </tbody>\n",
       "        <tr>\n",
       "            <td>East Bay Sanctuary Covenant              </td> <td> East Bay</td> <td> Non Profit Organization     </td>\n",
       "        </tr>\n",
       "    </tbody>\n",
       "</table>"
      ],
      "text/plain": [
       "Name                                      |  Area     |  Type of Support\n",
       "Bay Area Legal Aid                        |  East Bay |  Legal Aid Office\n",
       "International Institute-Legal             |  East Bay |  Family Law Attorney\n",
       "Refugee Transitions                       |  East Bay |  Tutoring Service\n",
       "National Network For Immigrant            |  East Bay |  Non Profit Organization\n",
       "Social Justice Collaborative              |  East Bay |  Non Profit Organization\n",
       "Catholic Charities of the East Bay        |  East Bay |  Social Services Organization\n",
       "Immigration Center for Women and Children |  East Bay |  Corporate Office\n",
       "International Rescue Committee            |  East Bay |  Social Services Organization\n",
       "East Bay Sanctuary Covenant               |  East Bay |  Non Profit Organization"
      ]
     },
     "execution_count": 9,
     "metadata": {},
     "output_type": "execute_result"
    }
   ],
   "source": [
    "eastbay = resources.where(' Area', are.equal_to(' East Bay'))\n",
    "eastbay"
   ]
  },
  {
   "cell_type": "code",
   "execution_count": 10,
   "metadata": {},
   "outputs": [
    {
     "data": {
      "text/html": [
       "<table border=\"1\" class=\"dataframe\">\n",
       "    <thead>\n",
       "        <tr>\n",
       "            <th>Name</th> <th> Area</th> <th> Type of Support</th>\n",
       "        </tr>\n",
       "    </thead>\n",
       "    <tbody>\n",
       "        <tr>\n",
       "            <td>CARECEN                                            </td> <td> Los Angeles</td> <td> Non Profit Organization</td>\n",
       "        </tr>\n",
       "    </tbody>\n",
       "        <tr>\n",
       "            <td>Coalition for Human Immigrant Rights of Los Angeles</td> <td> Los Angeles</td> <td> Social Services        </td>\n",
       "        </tr>\n",
       "    </tbody>\n",
       "        <tr>\n",
       "            <td>Esperanza                                          </td> <td> Los Angeles</td> <td> Non Profit Organization</td>\n",
       "        </tr>\n",
       "    </tbody>\n",
       "        <tr>\n",
       "            <td>Immigration Center for Women and Children          </td> <td> Los Angeles</td> <td> Immigration Attorney   </td>\n",
       "        </tr>\n",
       "    </tbody>\n",
       "        <tr>\n",
       "            <td>Korean Resource Center 민족학교                        </td> <td> Los Angeles</td> <td> Non Profit Organization</td>\n",
       "        </tr>\n",
       "    </tbody>\n",
       "        <tr>\n",
       "            <td>National Immigration Law Center                    </td> <td> Los Angeles</td> <td> Legal Services         </td>\n",
       "        </tr>\n",
       "    </tbody>\n",
       "        <tr>\n",
       "            <td>Legal Aid Foundation of Los Angeles                </td> <td> Los Angeles</td> <td> Immigration Attorney   </td>\n",
       "        </tr>\n",
       "    </tbody>\n",
       "        <tr>\n",
       "            <td>Immigration Legal Assistance                       </td> <td> Los Angeles</td> <td> Immigration Attorney   </td>\n",
       "        </tr>\n",
       "    </tbody>\n",
       "        <tr>\n",
       "            <td>Career Advantage Inc.                              </td> <td> Los Angeles</td> <td> Employment Agency      </td>\n",
       "        </tr>\n",
       "    </tbody>\n",
       "        <tr>\n",
       "            <td>Catholic Charities                                 </td> <td> Los Angeles</td> <td> Social Services        </td>\n",
       "        </tr>\n",
       "    </tbody>\n",
       "</table>\n",
       "<p>... (9 rows omitted)</p"
      ],
      "text/plain": [
       "Name                                                |  Area        |  Type of Support\n",
       "CARECEN                                             |  Los Angeles |  Non Profit Organization\n",
       "Coalition for Human Immigrant Rights of Los Angeles |  Los Angeles |  Social Services\n",
       "Esperanza                                           |  Los Angeles |  Non Profit Organization\n",
       "Immigration Center for Women and Children           |  Los Angeles |  Immigration Attorney\n",
       "Korean Resource Center 민족학교                         |  Los Angeles |  Non Profit Organization\n",
       "National Immigration Law Center                     |  Los Angeles |  Legal Services\n",
       "Legal Aid Foundation of Los Angeles                 |  Los Angeles |  Immigration Attorney\n",
       "Immigration Legal Assistance                        |  Los Angeles |  Immigration Attorney\n",
       "Career Advantage Inc.                               |  Los Angeles |  Employment Agency\n",
       "Catholic Charities                                  |  Los Angeles |  Social Services\n",
       "... (9 rows omitted)"
      ]
     },
     "execution_count": 10,
     "metadata": {},
     "output_type": "execute_result"
    }
   ],
   "source": [
    "losangeles = resources.where(' Area', are.equal_to(' Los Angeles'))\n",
    "losangeles"
   ]
  },
  {
   "cell_type": "code",
   "execution_count": 11,
   "metadata": {},
   "outputs": [
    {
     "data": {
      "text/html": [
       "<table border=\"1\" class=\"dataframe\">\n",
       "    <thead>\n",
       "        <tr>\n",
       "            <th>Name</th> <th> Area</th> <th> Type of Support</th>\n",
       "        </tr>\n",
       "    </thead>\n",
       "    <tbody>\n",
       "        <tr>\n",
       "            <td>Catholic Charities Immigration</td> <td> Gilroy</td> <td> Social Services Organization</td>\n",
       "        </tr>\n",
       "    </tbody>\n",
       "        <tr>\n",
       "            <td>Hope Services                 </td> <td> Gilroy</td> <td> Social Services Organization</td>\n",
       "        </tr>\n",
       "    </tbody>\n",
       "</table>"
      ],
      "text/plain": [
       "Name                           |  Area   |  Type of Support\n",
       "Catholic Charities Immigration |  Gilroy |  Social Services Organization\n",
       "Hope Services                  |  Gilroy |  Social Services Organization"
      ]
     },
     "execution_count": 11,
     "metadata": {},
     "output_type": "execute_result"
    }
   ],
   "source": [
    "gilroy = resources.where(' Area', are.equal_to(' Gilroy'))\n",
    "gilroy"
   ]
  },
  {
   "cell_type": "code",
   "execution_count": 12,
   "metadata": {},
   "outputs": [
    {
     "data": {
      "text/html": [
       "<table border=\"1\" class=\"dataframe\">\n",
       "    <thead>\n",
       "        <tr>\n",
       "            <th>Name</th> <th> Area</th> <th> Type of Support</th>\n",
       "        </tr>\n",
       "    </thead>\n",
       "    <tbody>\n",
       "        <tr>\n",
       "            <td>La Manzana Community Resources</td> <td> Watsonville</td> <td> Community Center</td>\n",
       "        </tr>\n",
       "    </tbody>\n",
       "</table>"
      ],
      "text/plain": [
       "Name                           |  Area        |  Type of Support\n",
       "La Manzana Community Resources |  Watsonville |  Community Center"
      ]
     },
     "execution_count": 12,
     "metadata": {},
     "output_type": "execute_result"
    }
   ],
   "source": [
    "watsonville = resources.where(' Area', are.equal_to(' Watsonville'))\n",
    "watsonville"
   ]
  },
  {
   "cell_type": "code",
   "execution_count": 13,
   "metadata": {},
   "outputs": [
    {
     "data": {
      "text/html": [
       "<table border=\"1\" class=\"dataframe\">\n",
       "    <thead>\n",
       "        <tr>\n",
       "            <th>Name</th> <th> Area</th> <th> Type of Support</th>\n",
       "        </tr>\n",
       "    </thead>\n",
       "    <tbody>\n",
       "        <tr>\n",
       "            <td>Central California Legal Services</td> <td> Fresno</td> <td> Law Firm               </td>\n",
       "        </tr>\n",
       "    </tbody>\n",
       "        <tr>\n",
       "            <td>California Rural Legal Assistance</td> <td> Fresno</td> <td> Non Profit Organization</td>\n",
       "        </tr>\n",
       "    </tbody>\n",
       "        <tr>\n",
       "            <td>Kids in Need of Defense          </td> <td> Fresno</td> <td> Non Profit Organization</td>\n",
       "        </tr>\n",
       "    </tbody>\n",
       "</table>"
      ],
      "text/plain": [
       "Name                              |  Area   |  Type of Support\n",
       "Central California Legal Services |  Fresno |  Law Firm\n",
       "California Rural Legal Assistance |  Fresno |  Non Profit Organization\n",
       "Kids in Need of Defense           |  Fresno |  Non Profit Organization"
      ]
     },
     "execution_count": 13,
     "metadata": {},
     "output_type": "execute_result"
    }
   ],
   "source": [
    "fresno = resources.where(' Area', are.equal_to(' Fresno'))\n",
    "fresno"
   ]
  },
  {
   "cell_type": "code",
   "execution_count": 14,
   "metadata": {},
   "outputs": [
    {
     "data": {
      "text/html": [
       "<table border=\"1\" class=\"dataframe\">\n",
       "    <thead>\n",
       "        <tr>\n",
       "            <th>Name</th> <th> Area</th> <th> Type of Support</th>\n",
       "        </tr>\n",
       "    </thead>\n",
       "    <tbody>\n",
       "        <tr>\n",
       "            <td>O.L.A. RAZA                         </td> <td> Bakersfield</td> <td> Non Profit Organization</td>\n",
       "        </tr>\n",
       "    </tbody>\n",
       "        <tr>\n",
       "            <td>United Farm Workers Foundation      </td> <td> Bakersfield</td> <td> Immigration Attorney   </td>\n",
       "        </tr>\n",
       "    </tbody>\n",
       "        <tr>\n",
       "            <td>Greater Bakersfield Legal Assistance</td> <td> Bakersfield</td> <td> Legal Services         </td>\n",
       "        </tr>\n",
       "    </tbody>\n",
       "</table>"
      ],
      "text/plain": [
       "Name                                 |  Area        |  Type of Support\n",
       "O.L.A. RAZA                          |  Bakersfield |  Non Profit Organization\n",
       "United Farm Workers Foundation       |  Bakersfield |  Immigration Attorney\n",
       "Greater Bakersfield Legal Assistance |  Bakersfield |  Legal Services"
      ]
     },
     "execution_count": 14,
     "metadata": {},
     "output_type": "execute_result"
    }
   ],
   "source": [
    "bakersfield = resources.where(' Area', are.equal_to(' Bakersfield'))\n",
    "bakersfield"
   ]
  },
  {
   "cell_type": "code",
   "execution_count": 15,
   "metadata": {},
   "outputs": [
    {
     "data": {
      "text/html": [
       "<table border=\"1\" class=\"dataframe\">\n",
       "    <thead>\n",
       "        <tr>\n",
       "            <th>Name</th> <th> Area</th> <th> Type of Support</th>\n",
       "        </tr>\n",
       "    </thead>\n",
       "    <tbody>\n",
       "        <tr>\n",
       "            <td>La Manzana Community Resources        </td> <td> Watsonville</td> <td> Community Center                      </td>\n",
       "        </tr>\n",
       "    </tbody>\n",
       "        <tr>\n",
       "            <td>Catholic Charities                    </td> <td> Los Angeles</td> <td> Social Services Organization          </td>\n",
       "        </tr>\n",
       "    </tbody>\n",
       "        <tr>\n",
       "            <td>International Institute of LA         </td> <td> Los Angeles</td> <td> Immigration Attorney                  </td>\n",
       "        </tr>\n",
       "    </tbody>\n",
       "        <tr>\n",
       "            <td>Diamante Law Group APLC               </td> <td> Los Angeles</td> <td> Immigration Attorney                  </td>\n",
       "        </tr>\n",
       "    </tbody>\n",
       "        <tr>\n",
       "            <td>El Rescate                            </td> <td> Los Angeles</td> <td> Immigration and Naturalization Service</td>\n",
       "        </tr>\n",
       "    </tbody>\n",
       "        <tr>\n",
       "            <td>Franco Law Group                      </td> <td> Los Angeles</td> <td> Attorney                              </td>\n",
       "        </tr>\n",
       "    </tbody>\n",
       "        <tr>\n",
       "            <td>International Institute of Los Angeles</td> <td> Los Angeles</td> <td> Immigration and Naturalization Service</td>\n",
       "        </tr>\n",
       "    </tbody>\n",
       "        <tr>\n",
       "            <td>Asosal                                </td> <td> Los Angeles</td> <td> Immigration and Naturalization Service</td>\n",
       "        </tr>\n",
       "    </tbody>\n",
       "        <tr>\n",
       "            <td>Immigrants Charitable Foundation      </td> <td> Los Angeles</td> <td> Foundation                            </td>\n",
       "        </tr>\n",
       "    </tbody>\n",
       "        <tr>\n",
       "            <td>Center for Human Rights and Law       </td> <td> Los Angeles</td> <td> Non Profit Organization               </td>\n",
       "        </tr>\n",
       "    </tbody>\n",
       "</table>\n",
       "<p>... (27 rows omitted)</p"
      ],
      "text/plain": [
       "Name                                   |  Area        |  Type of Support\n",
       "La Manzana Community Resources         |  Watsonville |  Community Center\n",
       "Catholic Charities                     |  Los Angeles |  Social Services Organization\n",
       "International Institute of LA          |  Los Angeles |  Immigration Attorney\n",
       "Diamante Law Group APLC                |  Los Angeles |  Immigration Attorney\n",
       "El Rescate                             |  Los Angeles |  Immigration and Naturalization Service\n",
       "Franco Law Group                       |  Los Angeles |  Attorney\n",
       "International Institute of Los Angeles |  Los Angeles |  Immigration and Naturalization Service\n",
       "Asosal                                 |  Los Angeles |  Immigration and Naturalization Service\n",
       "Immigrants Charitable Foundation       |  Los Angeles |  Foundation\n",
       "Center for Human Rights and Law        |  Los Angeles |  Non Profit Organization\n",
       "... (27 rows omitted)"
      ]
     },
     "execution_count": 15,
     "metadata": {},
     "output_type": "execute_result"
    }
   ],
   "source": [
    "ordered = resources.sort(' Area', descending = True)\n",
    "ordered"
   ]
  },
  {
   "cell_type": "code",
   "execution_count": 16,
   "metadata": {},
   "outputs": [
    {
     "data": {
      "image/png": "[encoded data removed]",
      "text/plain": [
       "<matplotlib.figure.Figure at 0x7fea45a8c6d8>"
      ]
     },
     "metadata": {},
     "output_type": "display_data"
    }
   ],
   "source": [
    "areabar = resources.group(' Area')\n",
    "pre = areabar.sort('count', descending = True)\n",
    "pre.barh(' Area')"
   ]
  },
  {
   "cell_type": "code",
   "execution_count": 17,
   "metadata": {},
   "outputs": [
    {
     "data": {
      "image/png": "[encoded data removed]",
      "text/plain": [
       "<matplotlib.figure.Figure at 0x7fea05569710>"
      ]
     },
     "metadata": {},
     "output_type": "display_data"
    }
   ],
   "source": [
    "orderedresources = Table.read_table('orderedresources.csv')\n",
    "areabar = orderedresources.group(' Area')\n",
    "pre = areabar.sort('count', descending = True)\n",
    "pre.barh(' Area')"
   ]
  },
  {
   "cell_type": "code",
   "execution_count": 18,
   "metadata": {},
   "outputs": [
    {
     "data": {
      "text/html": [
       "<table border=\"1\" class=\"dataframe\">\n",
       "    <thead>\n",
       "        <tr>\n",
       "            <th>Location</th> <th>lat</th> <th>long</th> <th>color</th>\n",
       "        </tr>\n",
       "    </thead>\n",
       "    <tbody>\n",
       "        <tr>\n",
       "            <td>East Lake Merritt</td> <td>37.8063</td> <td>-122.239</td> <td>yellow</td>\n",
       "        </tr>\n",
       "    </tbody>\n",
       "        <tr>\n",
       "            <td>San Leandro      </td> <td>37.7249</td> <td>-122.156</td> <td>yellow</td>\n",
       "        </tr>\n",
       "    </tbody>\n",
       "        <tr>\n",
       "            <td>Union City       </td> <td>37.5934</td> <td>-122.044</td> <td>yellow</td>\n",
       "        </tr>\n",
       "    </tbody>\n",
       "        <tr>\n",
       "            <td>Bay point        </td> <td>38.0291</td> <td>-121.962</td> <td>orange</td>\n",
       "        </tr>\n",
       "    </tbody>\n",
       "        <tr>\n",
       "            <td>Antioch          </td> <td>38.0049</td> <td>-121.806</td> <td>orange</td>\n",
       "        </tr>\n",
       "    </tbody>\n",
       "        <tr>\n",
       "            <td>Concord          </td> <td>37.978 </td> <td>-122.031</td> <td>orange</td>\n",
       "        </tr>\n",
       "    </tbody>\n",
       "        <tr>\n",
       "            <td>Stockton         </td> <td>37.9577</td> <td>-121.291</td> <td>red   </td>\n",
       "        </tr>\n",
       "    </tbody>\n",
       "        <tr>\n",
       "            <td>San Joaquin      </td> <td>37.9176</td> <td>-121.171</td> <td>red   </td>\n",
       "        </tr>\n",
       "    </tbody>\n",
       "        <tr>\n",
       "            <td>Sacramento       </td> <td>38.5816</td> <td>-121.494</td> <td>red   </td>\n",
       "        </tr>\n",
       "    </tbody>\n",
       "        <tr>\n",
       "            <td>Bakersfield      </td> <td>35.3733</td> <td>-119.019</td> <td>red   </td>\n",
       "        </tr>\n",
       "    </tbody>\n",
       "</table>\n",
       "<p>... (1 rows omitted)</p"
      ],
      "text/plain": [
       "Location          | lat     | long     | color\n",
       "East Lake Merritt | 37.8063 | -122.239 | yellow\n",
       "San Leandro       | 37.7249 | -122.156 | yellow\n",
       "Union City        | 37.5934 | -122.044 | yellow\n",
       "Bay point         | 38.0291 | -121.962 | orange\n",
       "Antioch           | 38.0049 | -121.806 | orange\n",
       "Concord           | 37.978  | -122.031 | orange\n",
       "Stockton          | 37.9577 | -121.291 | red\n",
       "San Joaquin       | 37.9176 | -121.171 | red\n",
       "Sacramento        | 38.5816 | -121.494 | red\n",
       "Bakersfield       | 35.3733 | -119.019 | red\n",
       "... (1 rows omitted)"
      ]
     },
     "execution_count": 18,
     "metadata": {},
     "output_type": "execute_result"
    }
   ],
   "source": [
    "stations = Table.read_table('furthereast.csv')\n",
    "stations"
   ]
  },
  {
   "cell_type": "code",
   "execution_count": 19,
   "metadata": {},
   "outputs": [
    {
     "data": {
      "text/html": [
       "<iframe srcdoc=\"<!DOCTYPE html>\n",
       "<head>\n",
       "   <meta http-equiv=&quot;content-type&quot; content=&quot;text/html; charset=UTF-8&quot; />\n",
       "   <link rel=&quot;stylesheet&quot; href=&quot;https://cdnjs.cloudflare.com/ajax/libs/leaflet/0.7.3/leaflet.css&quot; />\n",
       "   <script src=&quot;https://cdnjs.cloudflare.com/ajax/libs/leaflet/0.7.3/leaflet.js&quot;></script>\n",
       "\n",
       "   <script src=&quot;https://ajax.googleapis.com/ajax/libs/jquery/1.11.1/jquery.min.js&quot;></script>\n",
       "\n",
       "   <link rel=&quot;stylesheet&quot; href=&quot;https://maxcdn.bootstrapcdn.com/bootstrap/3.2.0/css/bootstrap.min.css&quot;>\n",
       "   <link rel=&quot;stylesheet&quot; href=&quot;https://maxcdn.bootstrapcdn.com/bootstrap/3.2.0/css/bootstrap-theme.min.css&quot;>\n",
       "   <script src=&quot;https://maxcdn.bootstrapcdn.com/bootstrap/3.2.0/js/bootstrap.min.js&quot;></script>\n",
       "\n",
       "   <link href=&quot;https://maxcdn.bootstrapcdn.com/font-awesome/4.1.0/css/font-awesome.min.css&quot; rel=&quot;stylesheet&quot;>\n",
       "\n",
       "   <link rel=&quot;stylesheet&quot; href=&quot;https://rawgit.com/lvoogdt/Leaflet.awesome-markers/2.0/develop/dist/leaflet.awesome-markers.css&quot;>\n",
       "   <script src=&quot;https://rawgithub.com/lvoogdt/Leaflet.awesome-markers/2.0/develop/dist/leaflet.awesome-markers.js&quot;></script>\n",
       "\n",
       "\n",
       "   <link rel=&quot;stylesheet&quot; href=&quot;https://cdnjs.cloudflare.com/ajax/libs/leaflet.markercluster/0.4.0/MarkerCluster.Default.css&quot;>\n",
       "   <link rel=&quot;stylesheet&quot; href=&quot;https://cdnjs.cloudflare.com/ajax/libs/leaflet.markercluster/0.4.0/MarkerCluster.css&quot;>\n",
       "   <script src=&quot;https://cdnjs.cloudflare.com/ajax/libs/leaflet.markercluster/0.4.0/leaflet.markercluster-src.js&quot;></script>\n",
       "   <script src=&quot;https://cdnjs.cloudflare.com/ajax/libs/leaflet.markercluster/0.4.0/leaflet.markercluster.js&quot;></script>\n",
       "\n",
       "   <link rel=&quot;stylesheet&quot; href=&quot;https://birdage.github.io/Leaflet.awesome-markers/dist/leaflet.awesome.rotate.css&quot;>\n",
       "\n",
       "   \n",
       "   \n",
       "   \n",
       "   \n",
       "\n",
       "   <style>\n",
       "\n",
       "      html, body {\n",
       "        width: 100%;\n",
       "        height: 100%;\n",
       "        margin: 0;\n",
       "        padding: 0;\n",
       "      }\n",
       "\n",
       "      #map {\n",
       "        position:absolute;\n",
       "        top:0;\n",
       "        bottom:0;\n",
       "        right:0;\n",
       "        left:0;\n",
       "      }\n",
       "\n",
       "   </style>\n",
       "</head>\n",
       "\n",
       "<body>\n",
       "\n",
       "   <div class=&quot;folium-map&quot; id=&quot;folium_a3c8eb85ad664b31aefb4f6af6c6e1e1&quot; style=&quot;width: 960px; height: 500px&quot;></div>\n",
       "\n",
       "   <script>\n",
       "\n",
       "      \n",
       "\n",
       "      var base_tile = L.tileLayer('https://{s}.tile.openstreetmap.org/{z}/{x}/{y}.png', {\n",
       "          maxZoom: 17,\n",
       "          minZoom: 7,\n",
       "          attribution: 'Map data (c) <a href=&quot;http://openstreetmap.org&quot;>OpenStreetMap</a> contributors'\n",
       "      });\n",
       "\n",
       "      var baseLayer = {\n",
       "        &quot;Base Layer&quot;: base_tile\n",
       "      };\n",
       "\n",
       "      /*\n",
       "      addition of the wms layers\n",
       "      */\n",
       "\n",
       "      \n",
       "\n",
       "      /*\n",
       "      addition of the tile layers\n",
       "      */\n",
       "      \n",
       "\n",
       "      /*\n",
       "      list of layers to be added\n",
       "      */\n",
       "      var layer_list = {\n",
       "      \n",
       "      };\n",
       "\n",
       "      /*\n",
       "      Bounding box.\n",
       "      */\n",
       "      var southWest = L.latLng(-90, -180),\n",
       "          northEast = L.latLng(90, 180),\n",
       "          bounds = L.latLngBounds(southWest, northEast);\n",
       "\n",
       "      /*\n",
       "      Creates the map and adds the selected layers\n",
       "      */\n",
       "      var map = L.map('folium_a3c8eb85ad664b31aefb4f6af6c6e1e1', {\n",
       "                                       center:[36.977432, -120.6287455],\n",
       "                                       zoom: 9,\n",
       "                                       maxBounds: bounds,\n",
       "                                       layers: [base_tile]\n",
       "                                     });\n",
       "\n",
       "      L.control.layers(baseLayer, layer_list).addTo(map);\n",
       "\n",
       "      //cluster group\n",
       "      var clusteredmarkers = L.markerClusterGroup();\n",
       "      //section for adding clustered markers\n",
       "      \n",
       "      //add the clustered markers to the group anyway\n",
       "      map.addLayer(clusteredmarkers);\n",
       "\n",
       "      \n",
       "      var marker_1_icon = L.AwesomeMarkers.icon({ icon: 'info-sign',markerColor: 'blue',prefix: 'glyphicon',extraClasses: 'fa-rotate-0'});\n",
       "      var marker_1 = L.marker([37.806268, \n",
       "\t\t\t\t\t\t\t-122.238779],\n",
       "\t\t\t\t\t\t\t{'icon':marker_1_icon}\n",
       "\t\t\t\t\t\t\t);\n",
       "      marker_1.bindPopup(&quot;yellow&quot;);\n",
       "      marker_1._popup.options.maxWidth = 300;\n",
       "      map.addLayer(marker_1)\n",
       "      \n",
       "      var marker_2_icon = L.AwesomeMarkers.icon({ icon: 'info-sign',markerColor: 'blue',prefix: 'glyphicon',extraClasses: 'fa-rotate-0'});\n",
       "      var marker_2 = L.marker([37.72493, \n",
       "\t\t\t\t\t\t\t-122.156077],\n",
       "\t\t\t\t\t\t\t{'icon':marker_2_icon}\n",
       "\t\t\t\t\t\t\t);\n",
       "      marker_2.bindPopup(&quot;yellow&quot;);\n",
       "      marker_2._popup.options.maxWidth = 300;\n",
       "      map.addLayer(marker_2)\n",
       "      \n",
       "      var marker_3_icon = L.AwesomeMarkers.icon({ icon: 'info-sign',markerColor: 'blue',prefix: 'glyphicon',extraClasses: 'fa-rotate-0'});\n",
       "      var marker_3 = L.marker([37.593392, \n",
       "\t\t\t\t\t\t\t-122.04383],\n",
       "\t\t\t\t\t\t\t{'icon':marker_3_icon}\n",
       "\t\t\t\t\t\t\t);\n",
       "      marker_3.bindPopup(&quot;yellow&quot;);\n",
       "      marker_3._popup.options.maxWidth = 300;\n",
       "      map.addLayer(marker_3)\n",
       "      \n",
       "      var marker_4_icon = L.AwesomeMarkers.icon({ icon: 'info-sign',markerColor: 'blue',prefix: 'glyphicon',extraClasses: 'fa-rotate-0'});\n",
       "      var marker_4 = L.marker([38.029087, \n",
       "\t\t\t\t\t\t\t-121.961627],\n",
       "\t\t\t\t\t\t\t{'icon':marker_4_icon}\n",
       "\t\t\t\t\t\t\t);\n",
       "      marker_4.bindPopup(&quot;orange&quot;);\n",
       "      marker_4._popup.options.maxWidth = 300;\n",
       "      map.addLayer(marker_4)\n",
       "      \n",
       "      var marker_5_icon = L.AwesomeMarkers.icon({ icon: 'info-sign',markerColor: 'blue',prefix: 'glyphicon',extraClasses: 'fa-rotate-0'});\n",
       "      var marker_5 = L.marker([38.004921, \n",
       "\t\t\t\t\t\t\t-121.805789],\n",
       "\t\t\t\t\t\t\t{'icon':marker_5_icon}\n",
       "\t\t\t\t\t\t\t);\n",
       "      marker_5.bindPopup(&quot;orange&quot;);\n",
       "      marker_5._popup.options.maxWidth = 300;\n",
       "      map.addLayer(marker_5)\n",
       "      \n",
       "      var marker_6_icon = L.AwesomeMarkers.icon({ icon: 'info-sign',markerColor: 'blue',prefix: 'glyphicon',extraClasses: 'fa-rotate-0'});\n",
       "      var marker_6 = L.marker([37.977978, \n",
       "\t\t\t\t\t\t\t-122.031073],\n",
       "\t\t\t\t\t\t\t{'icon':marker_6_icon}\n",
       "\t\t\t\t\t\t\t);\n",
       "      marker_6.bindPopup(&quot;orange&quot;);\n",
       "      marker_6._popup.options.maxWidth = 300;\n",
       "      map.addLayer(marker_6)\n",
       "      \n",
       "      var marker_7_icon = L.AwesomeMarkers.icon({ icon: 'info-sign',markerColor: 'blue',prefix: 'glyphicon',extraClasses: 'fa-rotate-0'});\n",
       "      var marker_7 = L.marker([37.957702, \n",
       "\t\t\t\t\t\t\t-121.29078],\n",
       "\t\t\t\t\t\t\t{'icon':marker_7_icon}\n",
       "\t\t\t\t\t\t\t);\n",
       "      marker_7.bindPopup(&quot;red&quot;);\n",
       "      marker_7._popup.options.maxWidth = 300;\n",
       "      map.addLayer(marker_7)\n",
       "      \n",
       "      var marker_8_icon = L.AwesomeMarkers.icon({ icon: 'info-sign',markerColor: 'blue',prefix: 'glyphicon',extraClasses: 'fa-rotate-0'});\n",
       "      var marker_8 = L.marker([37.917594, \n",
       "\t\t\t\t\t\t\t-121.171039],\n",
       "\t\t\t\t\t\t\t{'icon':marker_8_icon}\n",
       "\t\t\t\t\t\t\t);\n",
       "      marker_8.bindPopup(&quot;red &quot;);\n",
       "      marker_8._popup.options.maxWidth = 300;\n",
       "      map.addLayer(marker_8)\n",
       "      \n",
       "      var marker_9_icon = L.AwesomeMarkers.icon({ icon: 'info-sign',markerColor: 'blue',prefix: 'glyphicon',extraClasses: 'fa-rotate-0'});\n",
       "      var marker_9 = L.marker([38.581572, \n",
       "\t\t\t\t\t\t\t-121.4944],\n",
       "\t\t\t\t\t\t\t{'icon':marker_9_icon}\n",
       "\t\t\t\t\t\t\t);\n",
       "      marker_9.bindPopup(&quot;red&quot;);\n",
       "      marker_9._popup.options.maxWidth = 300;\n",
       "      map.addLayer(marker_9)\n",
       "      \n",
       "      var marker_10_icon = L.AwesomeMarkers.icon({ icon: 'info-sign',markerColor: 'blue',prefix: 'glyphicon',extraClasses: 'fa-rotate-0'});\n",
       "      var marker_10 = L.marker([35.373292, \n",
       "\t\t\t\t\t\t\t-119.018712],\n",
       "\t\t\t\t\t\t\t{'icon':marker_10_icon}\n",
       "\t\t\t\t\t\t\t);\n",
       "      marker_10.bindPopup(&quot;red&quot;);\n",
       "      marker_10._popup.options.maxWidth = 300;\n",
       "      map.addLayer(marker_10)\n",
       "      \n",
       "      var marker_11_icon = L.AwesomeMarkers.icon({ icon: 'info-sign',markerColor: 'blue',prefix: 'glyphicon',extraClasses: 'fa-rotate-0'});\n",
       "      var marker_11 = L.marker([36.746842, \n",
       "\t\t\t\t\t\t\t-119.772587],\n",
       "\t\t\t\t\t\t\t{'icon':marker_11_icon}\n",
       "\t\t\t\t\t\t\t);\n",
       "      marker_11.bindPopup(&quot;blue&quot;);\n",
       "      marker_11._popup.options.maxWidth = 300;\n",
       "      map.addLayer(marker_11)\n",
       "      \n",
       "\n",
       "      \n",
       "\n",
       "      \n",
       "\n",
       "      \n",
       "\n",
       "      \n",
       "\n",
       "      \n",
       "\n",
       "\n",
       "\n",
       "   </script>\n",
       "\n",
       "</body>\" style=\"width: 960px; height: 500px\"; border: none\"></iframe>"
      ],
      "text/plain": [
       "<datascience.maps.Map at 0x7fea0544c748>"
      ]
     },
     "execution_count": 19,
     "metadata": {},
     "output_type": "execute_result"
    }
   ],
   "source": [
    "Marker.map_table(stations.select('lat', 'long', 'color'))"
   ]
  },
  {
   "cell_type": "code",
   "execution_count": null,
   "metadata": {},
   "outputs": [],
   "source": []
  }
 ],
 "metadata": {
  "kernelspec": {
   "display_name": "Python 3",
   "language": "python",
   "name": "python3"
  },
  "language_info": {
   "codemirror_mode": {
    "name": "ipython",
    "version": 3
   },
   "file_extension": ".py",
   "mimetype": "text/x-python",
   "name": "python",
   "nbconvert_exporter": "python",
   "pygments_lexer": "ipython3",
   "version": "3.6.1"
  }
 },
 "nbformat": 4,
 "nbformat_minor": 2
}
